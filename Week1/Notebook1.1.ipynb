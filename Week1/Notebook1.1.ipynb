{
  "cells": [
    {
      "cell_type": "markdown",
      "metadata": {
        "jp-MarkdownHeadingCollapsed": true,
        "id": "xOgSVXjwspFL"
      },
      "source": [
        "\n",
        "# AAI612: Deep Learning & its Applications\n",
        "\n",
        "*Notebook 1.1: Using the perceptron for linear fitting*\n",
        "\n",
        "<a href=\"https://colab.research.google.com/github/harmanani/AAI612/blob/main/Week1/Notebook1.1.ipynb\" target=\"_parent\"><img src=\"https://colab.research.google.com/assets/colab-badge.svg\" alt=\"Open In Colab\"/></a>"
      ]
    },
    {
      "cell_type": "markdown",
      "metadata": {
        "id": "ZIAkIlfmCe1B"
      },
      "source": [
        "Notebook 1.1"
      ]
    },
    {
      "cell_type": "markdown",
      "metadata": {
        "id": "fA93WUy1zzWf"
      },
      "source": [
        "In this notebook, we will perform linear regression using a single neuron.  We will be using `TensorFlow` and `Keras`; however, do not worry about the details of the language for the moment as we will get back to these later on.\n",
        "\n",
        "The simple mode we will be looking at will learn the relationship between two numbers and will be used to predict other numbers. For example, if you were writing code for a function like this:\n",
        "\n",
        "\n",
        "```\n",
        "y = mx + b\n",
        "```\n",
        "\n",
        "How would you train a neural network to do the equivalent task? Well, we said using data, a lot of data! The approach is to feed the model with a set of Xs, and a set of Ys, it should be able to figure out the relationship between them."
      ]
    },
    {
      "cell_type": "markdown",
      "metadata": {
        "id": "1Pv9f3WYspFP"
      },
      "source": [
        "# Linear Regression"
      ]
    },
    {
      "cell_type": "markdown",
      "metadata": {
        "id": "_rgX_hRvspFP"
      },
      "source": [
        "Let us start by linear regression.   Assume we have the following simple dataset.  We can easily fit using `polyfit():`"
      ]
    },
    {
      "cell_type": "code",
      "execution_count": 1,
      "metadata": {
        "id": "7KdL4kXQspFQ"
      },
      "outputs": [],
      "source": [
        "from numpy.polynomial.polynomial import polyfit\n",
        "import matplotlib.pyplot as plt\n",
        "import numpy as np\n",
        "\n",
        "\n",
        "x = np.array([ 0,  1,  2,  3,  4,  5,  6,  7,  8,  9])\n",
        "y = np.array([10, 20, 25, 30, 40, 45, 40, 50, 60, 55])"
      ]
    },
    {
      "cell_type": "markdown",
      "metadata": {
        "id": "mcpCHWk7spFR"
      },
      "source": [
        "Let us explore the data!"
      ]
    },
    {
      "cell_type": "code",
      "execution_count": 2,
      "metadata": {
        "id": "DH1kfspWspFR",
        "outputId": "3063e874-4c8c-4b61-dd2c-0aa3b32ac732",
        "colab": {
          "base_uri": "https://localhost:8080/",
          "height": 430
        }
      },
      "outputs": [
        {
          "output_type": "display_data",
          "data": {
            "text/plain": [
              "<Figure size 640x480 with 1 Axes>"
            ],
            "image/png": "[encoded data removed]"
          },
          "metadata": {}
        }
      ],
      "source": [
        "plt.plot(x, y, '.')\n",
        "plt.show()"
      ]
    },
    {
      "cell_type": "markdown",
      "metadata": {
        "id": "TJ_fUuGbspFS"
      },
      "source": [
        "Now, let us see how we can best fit this data using the `polyfit`:"
      ]
    },
    {
      "cell_type": "code",
      "execution_count": 3,
      "metadata": {
        "id": "O3YLey0YspFT"
      },
      "outputs": [],
      "source": [
        "b, m = polyfit(x,y,1)\n",
        "\n",
        "y_hat = m*x+b"
      ]
    },
    {
      "cell_type": "markdown",
      "metadata": {
        "id": "0z-QViu8spFT"
      },
      "source": [
        "The above data fit results with the following equation:"
      ]
    },
    {
      "cell_type": "code",
      "execution_count": 4,
      "metadata": {
        "id": "qUVbCBvgspFU",
        "outputId": "c813abc2-70c2-44f4-fd06-9ccac44a6671",
        "colab": {
          "base_uri": "https://localhost:8080/"
        }
      },
      "outputs": [
        {
          "output_type": "stream",
          "name": "stdout",
          "text": [
            "Equation that best fits the data is: Y = 5.12 * x + 14.45\n"
          ]
        }
      ],
      "source": [
        "print(\"Equation that best fits the data is: Y = %2.2f * x + %5.2f\" % (m,b))"
      ]
    },
    {
      "cell_type": "markdown",
      "metadata": {
        "id": "suQq5CUyspFU"
      },
      "source": [
        "and now, let us see how it fits visually:"
      ]
    },
    {
      "cell_type": "code",
      "execution_count": 5,
      "metadata": {
        "id": "V7W0aDomspFU",
        "outputId": "55aed9cb-2db9-43d2-a3a1-3a569a527fc2",
        "colab": {
          "base_uri": "https://localhost:8080/",
          "height": 430
        }
      },
      "outputs": [
        {
          "output_type": "display_data",
          "data": {
            "text/plain": [
              "<Figure size 640x480 with 1 Axes>"
            ],
            "image/png": "[encoded data removed]"
          },
          "metadata": {}
        }
      ],
      "source": [
        "plt.plot(x, y, '.')\n",
        "plt.plot(x, y_hat, '-')\n",
        "plt.show()"
      ]
    },
    {
      "cell_type": "markdown",
      "metadata": {
        "id": "LfP6jnmLspFV"
      },
      "source": [
        "Let us predict y for x = 10"
      ]
    },
    {
      "cell_type": "code",
      "execution_count": 6,
      "metadata": {
        "id": "W5omeFlzspFV",
        "outputId": "3364e876-069d-44ad-a701-b16c18eeff31",
        "colab": {
          "base_uri": "https://localhost:8080/"
        }
      },
      "outputs": [
        {
          "output_type": "stream",
          "name": "stdout",
          "text": [
            "65.66666666666664\n"
          ]
        }
      ],
      "source": [
        "x = 10\n",
        "print(m*x+b)"
      ]
    },
    {
      "cell_type": "markdown",
      "metadata": {
        "id": "ruuk4X1dspFV"
      },
      "source": [
        "Now, let us try this all over again using one neuron.  We will be using `Keras` and `TesnorFlow`."
      ]
    },
    {
      "cell_type": "markdown",
      "metadata": {
        "id": "DzbtdRcZDO9B"
      },
      "source": [
        "## Imports\n",
        "\n",
        "Let's start with our imports. Here we are importing 'TensorFlow' and calling it tf for ease of use.  We do of course need to import `numpy`, which helps us to represent our data as lists easily and quickly.  Finally, the framework for defining a neural network as a set of Sequential layers is called keras, so we import that too."
      ]
    },
    {
      "cell_type": "code",
      "execution_count": 7,
      "metadata": {
        "id": "X9uIpOS2zx7k",
        "outputId": "b49b3308-2c54-4b80-e1b7-bb1c052a1df8",
        "colab": {
          "base_uri": "https://localhost:8080/"
        }
      },
      "outputs": [
        {
          "output_type": "stream",
          "name": "stdout",
          "text": [
            "2.18.0\n"
          ]
        }
      ],
      "source": [
        "import tensorflow as tf\n",
        "import numpy as np\n",
        "from tensorflow import keras\n",
        "\n",
        "print(tf.__version__)"
      ]
    },
    {
      "cell_type": "markdown",
      "metadata": {
        "id": "wwJGmDrQ0EoB"
      },
      "source": [
        "## Define and Compile the Neural Network\n",
        "\n",
        "Next we will create the simplest possible neural network. It has 1 layer, and that layer has 1 neuron, and the input shape to it is just 1 value."
      ]
    },
    {
      "cell_type": "code",
      "execution_count": 8,
      "metadata": {
        "id": "kQFAr_xo0M4T",
        "outputId": "faf16172-6c52-4b75-d920-3e3cfa2bebab",
        "colab": {
          "base_uri": "https://localhost:8080/"
        }
      },
      "outputs": [
        {
          "output_type": "stream",
          "name": "stderr",
          "text": [
            "/usr/local/lib/python3.11/dist-packages/keras/src/layers/core/dense.py:87: UserWarning: Do not pass an `input_shape`/`input_dim` argument to a layer. When using Sequential models, prefer using an `Input(shape)` object as the first layer in the model instead.\n",
            "  super().__init__(activity_regularizer=activity_regularizer, **kwargs)\n"
          ]
        }
      ],
      "source": [
        "model = tf.keras.Sequential([keras.layers.Dense(units=1, input_shape=[1])])"
      ]
    },
    {
      "cell_type": "markdown",
      "metadata": {
        "id": "KhjZjZ-c0Ok9"
      },
      "source": [
        "Now we compile our Neural Network. When we do so, we have to specify 2 functions, a loss and an optimizer.\n",
        "\n",
        "If you've seen lots of math for machine learning, here's where it's usually used, but in this case it's nicely encapsulated in functions for you. But what happens here — let's explain...\n",
        "\n",
        "We know that in our function, the relationship between the numbers is Y = 5.12 * x + 14.45.\n",
        "\n",
        "When the computer is trying to 'learn' that, it makes a guess...maybe y=10x+10. The LOSS function measures the guessed answers against the known correct answers and measures how well or how badly it did.\n",
        "\n",
        "It then uses the OPTIMIZER function to make another guess. Based on how the loss function went, it will try to minimize the loss. At that point maybe it will come up with somehting like y=5x+5, which, while still pretty bad, is closer to the correct result (i.e. the loss is lower)\n",
        "\n",
        "It will repeat this for the number of EPOCHS which you will see shortly. But first, here's how we tell it to use 'MEAN SQUARED ERROR' for the loss and 'STOCHASTIC GRADIENT DESCENT' for the optimizer. You don't need to understand the math for these yet, but you can see that they work! :)\n",
        "\n",
        "Over time you will learn the different and appropriate loss and optimizer functions for different scenarios.\n"
      ]
    },
    {
      "cell_type": "code",
      "execution_count": 9,
      "metadata": {
        "id": "m8YQN1H41L-Y"
      },
      "outputs": [],
      "source": [
        "model.compile(optimizer='sgd', loss='mean_squared_error')"
      ]
    },
    {
      "cell_type": "markdown",
      "metadata": {
        "id": "5QyOUhFw1OUX"
      },
      "source": [
        "## Providing the Data\n",
        "\n",
        "Next up we'll feed in some data. In this case we are taking 6 xs and 6ys. You can see that the relationship between these is that y=2x-1, so where x = -1, y=-3 etc. etc.\n",
        "\n",
        "A python library called 'Numpy' provides lots of array type data structures that are a defacto standard way of doing it. We declare that we want to use these by specifying the values as an np.array[]"
      ]
    },
    {
      "cell_type": "markdown",
      "metadata": {
        "id": "M7ZYi9cWspFY"
      },
      "source": [
        "### Let us try this dataset!"
      ]
    },
    {
      "cell_type": "markdown",
      "metadata": {
        "id": "6n2aahiVspFY"
      },
      "source": [
        "Comment the above data set and try this one now:"
      ]
    },
    {
      "cell_type": "code",
      "execution_count": 10,
      "metadata": {
        "id": "D92E0S-jspFY"
      },
      "outputs": [],
      "source": [
        "xs = np.array([ 0,  1,  2,  3,  4,  5,  6,  7,  8,  9])\n",
        "ys = np.array([10, 20, 25, 30, 40, 45, 40, 50, 60, 55])"
      ]
    },
    {
      "cell_type": "markdown",
      "metadata": {
        "id": "n_YcWRElnM_b"
      },
      "source": [
        "# Training the Neural Network"
      ]
    },
    {
      "cell_type": "markdown",
      "metadata": {
        "id": "c-Jk4dG91dvD"
      },
      "source": [
        "The process of training the neural network, where it 'learns' the relationship between the Xs and Ys is in the **model.fit**  call. This is where it will go through the loop we spoke about above, making a guess, measuring how good or bad it is (aka the loss), using the opimizer to make another guess etc. It will do it for the number of epochs you specify. When you run this code, you'll see the loss on the right hand side."
      ]
    },
    {
      "cell_type": "code",
      "execution_count": 11,
      "metadata": {
        "id": "lpRrl7WK10Pq"
      },
      "outputs": [],
      "source": [
        "from keras.callbacks import History\n",
        "history = History()\n",
        "\n",
        "x = model.fit(xs, ys, epochs=500, callbacks=[history], verbose=0)"
      ]
    },
    {
      "cell_type": "markdown",
      "metadata": {
        "id": "kaFIr71H2OZ-"
      },
      "source": [
        "Ok, that we have a model that we have trained to learn the relationship between X and Y, we can use the **model.predict** method to have it figure out the Y for a previously unknown X. So, for example, if X = 2, what do you think Y will be? Take a guess before you run this code:"
      ]
    },
    {
      "cell_type": "code",
      "execution_count": 12,
      "metadata": {
        "id": "Fc2btNSJspFZ",
        "outputId": "295ef765-e1dd-4697-ef18-f02c8d394e8e",
        "colab": {
          "base_uri": "https://localhost:8080/"
        }
      },
      "outputs": [
        {
          "output_type": "stream",
          "name": "stdout",
          "text": [
            "{'loss': [1421.507568359375, 300.2018737792969, 106.00566101074219, 71.98462677001953, 65.64122772216797, 64.084716796875, 63.36039352416992, 62.78496170043945, 62.240318298339844, 61.70603561401367, 61.17848587036133, 60.65699005126953, 60.14140701293945, 59.631629943847656, 59.127601623535156, 58.629234313964844, 58.1364860534668, 57.6492919921875, 57.16758346557617, 56.69130325317383, 56.22037887573242, 55.7547721862793, 55.29438400268555, 54.839210510253906, 54.3891487121582, 53.94415283203125, 53.504180908203125, 53.06914138793945, 52.639015197753906, 52.2137336730957, 51.79326248168945, 51.37749099731445, 50.9664192199707, 50.55998229980469, 50.158103942871094, 49.760780334472656, 49.36791229248047, 48.979461669921875, 48.59541702270508, 48.215675354003906, 47.8402099609375, 47.4689826965332, 47.1019287109375, 46.73899841308594, 46.38017654418945, 46.02538299560547, 45.674583435058594, 45.327754974365234, 44.98481369018555, 44.64573287963867, 44.31048583984375, 43.97899627685547, 43.6512565612793, 43.32721710205078, 43.00680160522461, 42.69001388549805, 42.37677764892578, 42.06707000732422, 41.760860443115234, 41.458106994628906, 41.158748626708984, 40.862762451171875, 40.57012176513672, 40.28076934814453, 39.99466323852539, 39.71179962158203, 39.43210983276367, 39.15558624267578, 38.88214874267578, 38.61180877685547, 38.34450912475586, 38.08023452758789, 37.81892395019531, 37.56055450439453, 37.30509567260742, 37.052528381347656, 36.80278396606445, 36.555870056152344, 36.31171798706055, 36.070335388183594, 35.8316650390625, 35.595664978027344, 35.36235046386719, 35.13165283203125, 34.90354919433594, 34.67801284790039, 34.455020904541016, 34.23454666137695, 34.01655197143555, 33.800994873046875, 33.58789825439453, 33.377174377441406, 33.16883087158203, 32.96284103393555, 32.75917053222656, 32.55778121948242, 32.358673095703125, 32.16180419921875, 31.967144012451172, 31.774688720703125, 31.584396362304688, 31.3962459564209, 31.210216522216797, 31.026281356811523, 30.844417572021484, 30.664602279663086, 30.4868106842041, 30.3110294342041, 30.137218475341797, 29.96536636352539, 29.795446395874023, 29.627452850341797, 29.461345672607422, 29.297107696533203, 29.134708404541016, 28.974157333374023, 28.81539535522461, 28.658443450927734, 28.503244400024414, 28.349782943725586, 28.198070526123047, 28.048070907592773, 27.89975357055664, 27.75309181213379, 27.608097076416016, 27.4647274017334, 27.32297706604004, 27.18282699584961, 27.044246673583984, 26.9072265625, 26.771759033203125, 26.637821197509766, 26.5053768157959, 26.37442970275879, 26.244949340820312, 26.116943359375, 25.990367889404297, 25.8652286529541, 25.741491317749023, 25.619150161743164, 25.498184204101562, 25.378583908081055, 25.26032066345215, 25.14340591430664, 25.027793884277344, 24.91349220275879, 24.800464630126953, 24.68873405456543, 24.5782413482666, 24.469005584716797, 24.360994338989258, 24.25419807434082, 24.148601531982422, 24.044193267822266, 23.940977096557617, 23.83890724182129, 23.737995147705078, 23.63821792602539, 23.539560317993164, 23.442012786865234, 23.34557342529297, 23.25021743774414, 23.155927658081055, 23.06270980834961, 22.970535278320312, 22.87939453125, 22.78929328918457, 22.700199127197266, 22.612102508544922, 22.525012969970703, 22.43889808654785, 22.353748321533203, 22.269559860229492, 22.186315536499023, 22.104015350341797, 22.02264404296875, 21.942182540893555, 21.86263084411621, 21.783971786499023, 21.70621109008789, 21.62931251525879, 21.553285598754883, 21.47810935974121, 21.40378761291504, 21.33028793334961, 21.257638931274414, 21.1857967376709, 21.114755630493164, 21.044519424438477, 20.975078582763672, 20.906417846679688, 20.83853530883789, 20.771408081054688, 20.705039978027344, 20.63943099975586, 20.574542999267578, 20.510393142700195, 20.44696617126465, 20.38425636291504, 20.322250366210938, 20.260944366455078, 20.200328826904297, 20.140392303466797, 20.081130981445312, 20.022533416748047, 19.964611053466797, 19.90732765197754, 19.850688934326172, 19.79469871520996, 19.739328384399414, 19.684585571289062, 19.630468368530273, 19.576942443847656, 19.524028778076172, 19.471723556518555, 19.419979095458984, 19.368839263916016, 19.318267822265625, 19.268268585205078, 19.218835830688477, 19.169946670532227, 19.121623992919922, 19.073837280273438, 19.026582717895508, 18.979869842529297, 18.93368911743164, 18.888015747070312, 18.842859268188477, 18.798219680786133, 18.754077911376953, 18.710430145263672, 18.667278289794922, 18.62459945678711, 18.582414627075195, 18.54070472717285, 18.499460220336914, 18.45868682861328, 18.41836166381836, 18.37849235534668, 18.339080810546875, 18.30011558532715, 18.261581420898438, 18.22348403930664, 18.185806274414062, 18.1485652923584, 18.111743927001953, 18.0753231048584, 18.03933334350586, 18.00372314453125, 17.96853256225586, 17.933734893798828, 17.89933204650879, 17.86530303955078, 17.831674575805664, 17.798416137695312, 17.765539169311523, 17.733013153076172, 17.700870513916016, 17.669086456298828, 17.63766098022461, 17.606582641601562, 17.57586669921875, 17.545490264892578, 17.51544952392578, 17.485754013061523, 17.456392288208008, 17.427366256713867, 17.398670196533203, 17.37028694152832, 17.34221839904785, 17.314472198486328, 17.28704833984375, 17.259929656982422, 17.233104705810547, 17.206586837768555, 17.18038558959961, 17.15445327758789, 17.12881851196289, 17.10347557067871, 17.07842445373535, 17.053651809692383, 17.029157638549805, 17.004940032958984, 16.98098373413086, 16.957313537597656, 16.93390655517578, 16.9107608795166, 16.887874603271484, 16.865243911743164, 16.84286880493164, 16.820755004882812, 16.79888343811035, 16.777263641357422, 16.75587272644043, 16.734745025634766, 16.71383285522461, 16.693159103393555, 16.672733306884766, 16.652523040771484, 16.632549285888672, 16.612789154052734, 16.593259811401367, 16.573951721191406, 16.554866790771484, 16.53598403930664, 16.517322540283203, 16.498865127563477, 16.480615615844727, 16.462583541870117, 16.444747924804688, 16.427112579345703, 16.409671783447266, 16.392425537109375, 16.37537956237793, 16.3585205078125, 16.341854095458984, 16.32537841796875, 16.309085845947266, 16.292980194091797, 16.277053833007812, 16.261302947998047, 16.24573516845703, 16.2303409576416, 16.21511459350586, 16.200063705444336, 16.185184478759766, 16.170473098754883, 16.155925750732422, 16.141536712646484, 16.127307891845703, 16.11326026916504, 16.099353790283203, 16.085607528686523, 16.0720157623291, 16.058576583862305, 16.0452938079834, 16.032154083251953, 16.0191593170166, 16.006317138671875, 15.993617057800293, 15.981059074401855, 15.968643188476562, 15.956369400024414, 15.944231033325195, 15.932233810424805, 15.920374870300293, 15.908638000488281, 15.897041320800781, 15.88556957244873, 15.874232292175293, 15.863012313842773, 15.851934432983398, 15.840980529785156, 15.830141067504883, 15.819425582885742, 15.808819770812988, 15.798357963562012, 15.787991523742676, 15.777758598327637, 15.767637252807617, 15.75761890411377, 15.747729301452637, 15.737939834594727, 15.728261947631836, 15.718694686889648, 15.70923137664795, 15.699877738952637, 15.690632820129395, 15.681495666503906, 15.672445297241211, 15.6635160446167, 15.654675483703613, 15.645939826965332, 15.637292861938477, 15.628751754760742, 15.620306015014648, 15.61194896697998, 15.603693962097168, 15.59553050994873, 15.587455749511719, 15.579475402832031, 15.571589469909668, 15.563779830932617, 15.556070327758789, 15.548437118530273, 15.54089641571045, 15.533437728881836, 15.5260648727417, 15.518768310546875, 15.511563301086426, 15.504440307617188, 15.497393608093262, 15.490432739257812, 15.483537673950195, 15.476730346679688, 15.469991683959961, 15.463335990905762, 15.456753730773926, 15.45024299621582, 15.443804740905762, 15.43743896484375, 15.43115234375, 15.424934387207031, 15.41877269744873, 15.412699699401855, 15.40667724609375, 15.400733947753906, 15.394862174987793, 15.38904094696045, 15.383293151855469, 15.377619743347168, 15.37199878692627, 15.36644172668457, 15.360946655273438, 15.355522155761719, 15.350151062011719, 15.344846725463867, 15.339591979980469, 15.334399223327637, 15.329272270202637, 15.324197769165039, 15.319181442260742, 15.31422233581543, 15.309321403503418, 15.304468154907227, 15.299673080444336, 15.294937133789062, 15.290245056152344, 15.285614013671875, 15.281031608581543, 15.27650260925293, 15.272016525268555, 15.267599105834961, 15.263214111328125, 15.258890151977539, 15.254605293273926, 15.250370979309082, 15.246185302734375, 15.24205207824707, 15.237951278686523, 15.233914375305176, 15.2299165725708, 15.225961685180664, 15.22204303741455, 15.218180656433105, 15.21435546875, 15.210577011108398, 15.206846237182617, 15.203147888183594, 15.199499130249023, 15.195887565612793, 15.192312240600586, 15.188787460327148, 15.185287475585938, 15.181833267211914, 15.178426742553711, 15.17504596710205, 15.171709060668945, 15.168418884277344, 15.16515827178955, 15.1619234085083, 15.158732414245605, 15.155584335327148, 15.15246868133545, 15.149383544921875, 15.146337509155273, 15.14332103729248, 15.140344619750977, 15.137395858764648, 15.134486198425293, 15.131604194641113, 15.128761291503906, 15.125946044921875, 15.123164176940918, 15.120405197143555, 15.117688179016113, 15.11500072479248, 15.112339973449707, 15.109701156616211, 15.10710620880127, 15.104533195495605, 15.101994514465332, 15.099481582641602, 15.0969877243042, 15.094537734985352, 15.0920991897583, 15.089696884155273, 15.087328910827637, 15.084976196289062, 15.082656860351562, 15.080360412597656, 15.078088760375977, 15.075845718383789, 15.073620796203613, 15.071428298950195, 15.069257736206055, 15.067120552062988, 15.064996719360352, 15.062893867492676, 15.060827255249023]}\n"
          ]
        }
      ],
      "source": [
        "print(x.history)"
      ]
    },
    {
      "cell_type": "code",
      "execution_count": 13,
      "metadata": {
        "id": "IdL75YZmspFa",
        "outputId": "5db8daeb-2081-42be-f3c1-a29949b3da45",
        "colab": {
          "base_uri": "https://localhost:8080/",
          "height": 448
        }
      },
      "outputs": [
        {
          "output_type": "execute_result",
          "data": {
            "text/plain": [
              "<Axes: >"
            ]
          },
          "metadata": {},
          "execution_count": 13
        },
        {
          "output_type": "display_data",
          "data": {
            "text/plain": [
              "<Figure size 640x480 with 1 Axes>"
            ],
            "image/png": "[encoded data removed]"
          },
          "metadata": {}
        }
      ],
      "source": [
        "import seaborn as sns\n",
        "sns.lineplot(data=x.history['loss'])"
      ]
    },
    {
      "cell_type": "code",
      "execution_count": 15,
      "metadata": {
        "id": "4OpoutjispFa",
        "outputId": "c7293685-5412-40a7-b420-64fc76f6ac41",
        "colab": {
          "base_uri": "https://localhost:8080/"
        }
      },
      "outputs": [
        {
          "output_type": "stream",
          "name": "stdout",
          "text": [
            "\u001b[1m1/1\u001b[0m \u001b[32m━━━━━━━━━━━━━━━━━━━━\u001b[0m\u001b[37m\u001b[0m \u001b[1m0s\u001b[0m 134ms/step\n"
          ]
        },
        {
          "output_type": "execute_result",
          "data": {
            "text/plain": [
              "array([[66.13558]], dtype=float32)"
            ]
          },
          "metadata": {},
          "execution_count": 15
        }
      ],
      "source": [
        "model.predict(np.array([10]))"
      ]
    },
    {
      "cell_type": "markdown",
      "metadata": {
        "id": "btF2CSFH2iEX"
      },
      "source": [
        "You might have thought 65, right? But it ended up being a little over. Why do you think that is?\n",
        "\n",
        "Remember that neural networks deal with probabilities, so given the data that we fed the NN with, it calculated that there is a very high probability that the relationship between X and Y is Y = 5.12 * x + 14.45, but with only 10 data points we can't know for sure. As a result, the result for 10 is very close to 65, but not necessarily 65.\n",
        "\n",
        "As you work with neural networks, you'll see this pattern recurring. You will almost always deal with probabilities, not certainties, and will do a little bit of coding to figure out what the result is based on the probabilities, particularly when it comes to classification.\n"
      ]
    }
  ],
  "metadata": {
    "colab": {
      "name": "Notebook1.1.ipynb",
      "provenance": [],
      "toc_visible": true
    },
    "kernelspec": {
      "display_name": "Python 3 (ipykernel)",
      "language": "python",
      "name": "python3"
    },
    "language_info": {
      "codemirror_mode": {
        "name": "ipython",
        "version": 3
      },
      "file_extension": ".py",
      "mimetype": "text/x-python",
      "name": "python",
      "nbconvert_exporter": "python",
      "pygments_lexer": "ipython3",
      "version": "3.10.11"
    }
  },
  "nbformat": 4,
  "nbformat_minor": 0
}